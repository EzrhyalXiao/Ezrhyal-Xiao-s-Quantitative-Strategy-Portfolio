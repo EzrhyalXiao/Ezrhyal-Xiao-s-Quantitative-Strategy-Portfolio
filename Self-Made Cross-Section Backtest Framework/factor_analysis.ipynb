{
 "cells": [
  {
   "cell_type": "code",
   "execution_count": 15,
   "id": "bb5ca04a-919a-4a9d-98f9-a4cb30eeb290",
   "metadata": {},
   "outputs": [],
   "source": [
    "import pandas as pd \n",
    "import numpy as np\n",
    "import matplotlib.pyplot as plt\n",
    "import seaborn as sns\n",
    "import scipy.stats as st\n",
    "import statsmodels.api as api\n",
    "import warnings\n",
    "import os\n",
    "from joblib import Parallel,delayed\n",
    "from dateutil.relativedelta import relativedelta\n",
    "from sklearn.linear_model import LinearRegression\n",
    "warnings.filterwarnings('ignore')"
   ]
  },
  {
   "cell_type": "code",
   "execution_count": 16,
   "id": "bbc08eca-4888-41cd-9aaa-8decac1221dc",
   "metadata": {},
   "outputs": [],
   "source": [
    "old_path= 'D:/causis/pca_factor/'\n",
    "all_data= [pd.read_csv(old_path+path,index_col=0,parse_dates=[0]).iloc[12:-1] for path in os.listdir(old_path) if 'csv' in path]"
   ]
  },
  {
   "cell_type": "code",
   "execution_count": 17,
   "id": "b7ba950a-1723-42a9-a952-ba981ddfd85b",
   "metadata": {},
   "outputs": [],
   "source": [
    "#将month_return的数据与因子数据对齐\n",
    "month_return=pd.read_csv(\"D:/causis/month_return.csv\",parse_dates=[0],index_col=0)\n",
    "month_return=month_return.shift(-1)\n",
    "month_return=month_return[\"20120101\":\"20201231\"]\n",
    "month_return=month_return.iloc[:-1]\n",
    "month_return.index=all_data[0].index\n",
    "month_return=month_return[all_data[0].columns]"
   ]
  },
  {
   "cell_type": "code",
   "execution_count": 18,
   "id": "4c4795f8-5888-4f03-ac3c-c633c536a5fc",
   "metadata": {},
   "outputs": [],
   "source": [
    "#标准化\n",
    "all_data=all_data+[month_return]\n",
    "def stand(factor):\n",
    "    return (factor-factor.mean())/factor.std()\n",
    "\n",
    "for i in range(len(all_data)):\n",
    "    all_data[i]=all_data[i].apply(lambda x:stand(x),axis=1)"
   ]
  },
  {
   "cell_type": "code",
   "execution_count": 19,
   "id": "1a6ffc87-5bbe-4fa1-bf9e-24d696382ce3",
   "metadata": {},
   "outputs": [],
   "source": [
    "factor=all_data[:-1]\n",
    "month_return=all_data[-1]"
   ]
  },
  {
   "cell_type": "code",
   "execution_count": 20,
   "id": "66b9b20c-7f5d-459e-bcef-20d6a9250c62",
   "metadata": {},
   "outputs": [],
   "source": [
    "#这里取出对应索引\n",
    "lscolumns=[]\n",
    "for i in os.listdir(old_path):\n",
    "    i=i[:-4]\n",
    "    lscolumns.append(i)"
   ]
  },
  {
   "cell_type": "code",
   "execution_count": 21,
   "id": "f4841cc4-9c66-45f0-b464-b8ef27fb05a2",
   "metadata": {},
   "outputs": [],
   "source": [
    "#计算IC相关指标\n",
    "ICmean=pd.Series(map(lambda x:x.corrwith(month_return,axis=1).mean(),factor))\n",
    "ICstd=pd.Series(map(lambda x:x.corrwith(month_return,axis=1).std(),factor))\n",
    "IR=ICmean/ICstd\n",
    "positive_rate=list(map(lambda x:x.corrwith(month_return,axis=1),factor))\n",
    "positive_rate=pd.Series(map(lambda x:len(x[x>0]) / len(x),positive_rate))"
   ]
  },
  {
   "cell_type": "code",
   "execution_count": 22,
   "id": "7b23ae85-e52a-4de0-9c8b-c17b35b46d84",
   "metadata": {},
   "outputs": [],
   "source": [
    "#定义计算因子收益率的回归函数，这里返回因子收益率\n",
    "def factor_return_params(ser):\n",
    "    month_return_ser = month_return.loc[ser.name]\n",
    "    index = ~ser.isna() * ~month_return_ser.isna()\n",
    "    model = api.OLS(ser[index],api.add_constant(month_return_ser[index])).fit()\n",
    "    params=model.params[1]\n",
    "    return params"
   ]
  },
  {
   "cell_type": "code",
   "execution_count": 23,
   "id": "05c00dac-34ab-4a13-8950-08505cb856c1",
   "metadata": {},
   "outputs": [],
   "source": [
    "#定义计算因子收益率的回归函数，这里返回因子收益率的t值\n",
    "def factor_return_t(ser):\n",
    "    month_return_ser = month_return.loc[ser.name]\n",
    "    index = ~ser.isna() * ~month_return_ser.isna()\n",
    "    model = api.OLS(ser[index],api.add_constant(month_return_ser[index])).fit()\n",
    "    t=model.tvalues[1]\n",
    "    return t"
   ]
  },
  {
   "cell_type": "code",
   "execution_count": 30,
   "id": "ea07f5ce-f00d-4032-a49a-6b4370907987",
   "metadata": {},
   "outputs": [],
   "source": [
    "#计算因子收益率以及检验值的平均值\n",
    "factor_return=pd.Series(list(map(lambda x:x.apply(lambda x:factor_return_params(x),axis=1).mean(),factor)))\n",
    "factor_t=pd.Series(list(map(lambda x:x.apply(lambda x:factor_return_t(x),axis=1).mean(),factor)))"
   ]
  },
  {
   "cell_type": "code",
   "execution_count": 31,
   "id": "916a660d-8e85-49d2-b818-0b1c5e8a5013",
   "metadata": {},
   "outputs": [],
   "source": [
    "#合并并以dataframe形式展现\n",
    "result=pd.concat([ICmean,ICstd,IR,positive_rate,factor_return,factor_t],axis=1)\n",
    "result.columns=['IC均值', 'IC标准差','IR值','正值次数比例','因子收益率均值','因子收益率t检验均值']\n",
    "result.index=lscolumns"
   ]
  },
  {
   "cell_type": "code",
   "execution_count": 32,
   "id": "9940eed8-3089-4477-a9b5-74de0f6c1960",
   "metadata": {},
   "outputs": [
    {
     "data": {
      "text/html": [
       "<div>\n",
       "<style scoped>\n",
       "    .dataframe tbody tr th:only-of-type {\n",
       "        vertical-align: middle;\n",
       "    }\n",
       "\n",
       "    .dataframe tbody tr th {\n",
       "        vertical-align: top;\n",
       "    }\n",
       "\n",
       "    .dataframe thead th {\n",
       "        text-align: right;\n",
       "    }\n",
       "</style>\n",
       "<table border=\"1\" class=\"dataframe\">\n",
       "  <thead>\n",
       "    <tr style=\"text-align: right;\">\n",
       "      <th></th>\n",
       "      <th>IC均值</th>\n",
       "      <th>IC标准差</th>\n",
       "      <th>IR值</th>\n",
       "      <th>正值次数比例</th>\n",
       "      <th>因子收益率均值</th>\n",
       "      <th>因子收益率t检验均值</th>\n",
       "    </tr>\n",
       "  </thead>\n",
       "  <tbody>\n",
       "    <tr>\n",
       "      <th>主成分0</th>\n",
       "      <td>-0.039</td>\n",
       "      <td>0.161</td>\n",
       "      <td>-0.244</td>\n",
       "      <td>0.364</td>\n",
       "      <td>-0.039</td>\n",
       "      <td>-2.358</td>\n",
       "    </tr>\n",
       "    <tr>\n",
       "      <th>主成分1</th>\n",
       "      <td>-0.039</td>\n",
       "      <td>0.084</td>\n",
       "      <td>-0.464</td>\n",
       "      <td>0.299</td>\n",
       "      <td>-0.039</td>\n",
       "      <td>-2.285</td>\n",
       "    </tr>\n",
       "    <tr>\n",
       "      <th>主成分2</th>\n",
       "      <td>0.001</td>\n",
       "      <td>0.084</td>\n",
       "      <td>0.007</td>\n",
       "      <td>0.533</td>\n",
       "      <td>0.001</td>\n",
       "      <td>0.029</td>\n",
       "    </tr>\n",
       "    <tr>\n",
       "      <th>主成分3</th>\n",
       "      <td>-0.007</td>\n",
       "      <td>0.061</td>\n",
       "      <td>-0.114</td>\n",
       "      <td>0.411</td>\n",
       "      <td>-0.007</td>\n",
       "      <td>-0.408</td>\n",
       "    </tr>\n",
       "    <tr>\n",
       "      <th>主成分4</th>\n",
       "      <td>0.003</td>\n",
       "      <td>0.058</td>\n",
       "      <td>0.046</td>\n",
       "      <td>0.523</td>\n",
       "      <td>0.003</td>\n",
       "      <td>0.160</td>\n",
       "    </tr>\n",
       "    <tr>\n",
       "      <th>主成分5</th>\n",
       "      <td>-0.022</td>\n",
       "      <td>0.096</td>\n",
       "      <td>-0.234</td>\n",
       "      <td>0.430</td>\n",
       "      <td>-0.022</td>\n",
       "      <td>-1.311</td>\n",
       "    </tr>\n",
       "    <tr>\n",
       "      <th>主成分6</th>\n",
       "      <td>-0.012</td>\n",
       "      <td>0.065</td>\n",
       "      <td>-0.181</td>\n",
       "      <td>0.477</td>\n",
       "      <td>-0.012</td>\n",
       "      <td>-0.701</td>\n",
       "    </tr>\n",
       "    <tr>\n",
       "      <th>主成分7</th>\n",
       "      <td>-0.000</td>\n",
       "      <td>0.045</td>\n",
       "      <td>-0.003</td>\n",
       "      <td>0.486</td>\n",
       "      <td>-0.000</td>\n",
       "      <td>-0.008</td>\n",
       "    </tr>\n",
       "    <tr>\n",
       "      <th>主成分8</th>\n",
       "      <td>-0.004</td>\n",
       "      <td>0.052</td>\n",
       "      <td>-0.083</td>\n",
       "      <td>0.495</td>\n",
       "      <td>-0.004</td>\n",
       "      <td>-0.252</td>\n",
       "    </tr>\n",
       "    <tr>\n",
       "      <th>主成分9</th>\n",
       "      <td>0.000</td>\n",
       "      <td>0.048</td>\n",
       "      <td>0.009</td>\n",
       "      <td>0.449</td>\n",
       "      <td>0.000</td>\n",
       "      <td>0.025</td>\n",
       "    </tr>\n",
       "    <tr>\n",
       "      <th>主成分10</th>\n",
       "      <td>-0.006</td>\n",
       "      <td>0.046</td>\n",
       "      <td>-0.129</td>\n",
       "      <td>0.393</td>\n",
       "      <td>-0.006</td>\n",
       "      <td>-0.343</td>\n",
       "    </tr>\n",
       "  </tbody>\n",
       "</table>\n",
       "</div>"
      ],
      "text/plain": [
       "        IC均值  IC标准差    IR值  正值次数比例  因子收益率均值  因子收益率t检验均值\n",
       "主成分0  -0.039  0.161 -0.244   0.364   -0.039      -2.358\n",
       "主成分1  -0.039  0.084 -0.464   0.299   -0.039      -2.285\n",
       "主成分2   0.001  0.084  0.007   0.533    0.001       0.029\n",
       "主成分3  -0.007  0.061 -0.114   0.411   -0.007      -0.408\n",
       "主成分4   0.003  0.058  0.046   0.523    0.003       0.160\n",
       "主成分5  -0.022  0.096 -0.234   0.430   -0.022      -1.311\n",
       "主成分6  -0.012  0.065 -0.181   0.477   -0.012      -0.701\n",
       "主成分7  -0.000  0.045 -0.003   0.486   -0.000      -0.008\n",
       "主成分8  -0.004  0.052 -0.083   0.495   -0.004      -0.252\n",
       "主成分9   0.000  0.048  0.009   0.449    0.000       0.025\n",
       "主成分10 -0.006  0.046 -0.129   0.393   -0.006      -0.343"
      ]
     },
     "execution_count": 32,
     "metadata": {},
     "output_type": "execute_result"
    }
   ],
   "source": [
    "#这里为了方便观看，将第三行移到最后一行\n",
    "result=result.iloc[~(result.index==\"主成分10\")].append(result.iloc[2])\n",
    "round(result,3)"
   ]
  },
  {
   "cell_type": "code",
   "execution_count": null,
   "id": "1cb938da-e793-409f-99f1-4d64ed183eb5",
   "metadata": {},
   "outputs": [],
   "source": []
  }
 ],
 "metadata": {
  "kernelspec": {
   "display_name": "Python 3 (ipykernel)",
   "language": "python",
   "name": "python3"
  },
  "language_info": {
   "codemirror_mode": {
    "name": "ipython",
    "version": 3
   },
   "file_extension": ".py",
   "mimetype": "text/x-python",
   "name": "python",
   "nbconvert_exporter": "python",
   "pygments_lexer": "ipython3",
   "version": "3.9.19"
  }
 },
 "nbformat": 4,
 "nbformat_minor": 5
}
