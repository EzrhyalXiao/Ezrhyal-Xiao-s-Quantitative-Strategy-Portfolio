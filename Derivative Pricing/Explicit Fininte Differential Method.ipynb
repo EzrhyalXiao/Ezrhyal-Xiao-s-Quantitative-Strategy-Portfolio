{
 "cells": [
  {
   "cell_type": "code",
   "execution_count": 2,
   "id": "7b74e8a3-6a08-4d5f-9e0b-131955d5daa0",
   "metadata": {},
   "outputs": [],
   "source": [
    "import numpy as np\n",
    "import matplotlib.pyplot as plt\n",
    "from scipy.optimize import root\n",
    "from scipy.stats import norm\n",
    "\n",
    "from math import log, sqrt, exp\n",
    "from scipy import stats  \n",
    "import numpy as np\n",
    "import math"
   ]
  },
  {
   "cell_type": "code",
   "execution_count": 3,
   "id": "d58179c4-8d88-4719-9e77-1a079961fecb",
   "metadata": {},
   "outputs": [
    {
     "name": "stdout",
     "output_type": "stream",
     "text": [
      "数值解\n",
      "4.072416231336189\n",
      "解析解\n",
      "4.076100608769622\n",
      "----------------\n"
     ]
    }
   ],
   "source": [
    "def european_put_explicit(r,sigma,S_0,K,T,M,N): #r:期望收益率 sigma:波动率 S_0:股票价格 M:纵向划分 N:横向划分\n",
    "    dS=3*S_0/M\n",
    "    dt=T/N\n",
    "    \n",
    "    a=lambda j: (-0.5*r*j*dt+0.5*sigma*sigma*j*j*dt)/(1+r*dt)\n",
    "    b=lambda j: (1-sigma*sigma*j*j*dt)/(1+r*dt)\n",
    "    c=lambda j: (0.5*r*j*dt+0.5*sigma*sigma*j*j*dt)/(1+r*dt)\n",
    "    \n",
    "\n",
    "    Fl=[max(K-i*dS,0) for i in range(M+1)]\n",
    "    #print(Fl)\n",
    "    for i in range(N-1,-1,-1):\n",
    "        Fr=list(Fl)\n",
    "        Fl[0]=K\n",
    "        Fl[M]=0\n",
    "        for j  in range(1,M):\n",
    "            Fl[j]=a(j)*Fr[j-1]+b(j)*Fr[j]+c(j)*Fr[j+1]\n",
    "    #print(Fl)\n",
    "    ini=int(S_0/dS)\n",
    "    put_price=Fl[ini]\n",
    "    return put_price\n",
    "\n",
    "def bsm_p_type(S_0, K, T, r, sigma):\n",
    "    S_0 = float(S_0)\n",
    "    d_1 = (log(S_0 / K) + (r + 0.5 * sigma ** 2) * T) / (sigma * sqrt(T))  # 带入d_1公式\n",
    "    d_2 = (log(S_0 / K) + (r - 0.5 * sigma ** 2) * T) / (sigma * sqrt(T))  # 带入d_2公式\n",
    "    p = (K * exp(-r * T) * stats.norm.cdf(-d_2) - S_0 * stats.norm.cdf(-d_1))  # 带入欧式看跌期权公式\n",
    "    return p\n",
    "    \n",
    "p1=european_put_explicit(r=0.1,sigma=0.4,S_0=50,K=50,T=0.4167,M=150,N=10000)\n",
    "p2=bsm_p_type(r=0.1,sigma=0.4,S_0=50,K=50,T=0.4167)\n",
    "print(\"数值解\")\n",
    "print(p1)\n",
    "print(\"解析解\")\n",
    "print(p2)\n",
    "    \n",
    "print(\"----------------\")\n"
   ]
  },
  {
   "cell_type": "code",
   "execution_count": 5,
   "id": "299d19e0-2fe6-4d67-9979-fa478f028525",
   "metadata": {},
   "outputs": [
    {
     "name": "stdout",
     "output_type": "stream",
     "text": [
      "call option\n",
      "数值解：\n",
      "5.230942057640884\n",
      "解析解：\n",
      "5.2346365585867325\n"
     ]
    }
   ],
   "source": [
    "def european_call_explicit(r,sigma,S_0,K,T,M,N): #r:期望收益率 sigma:波动率 S_0:股票价格 M:纵向划分 N:横向划分\n",
    "    dS=3*S_0/M\n",
    "    dt=T/N\n",
    "    \n",
    "    a=lambda j: (-0.5*r*j*dt+0.5*sigma*sigma*j*j*dt)/(1+r*dt)\n",
    "    b=lambda j: (1-sigma*sigma*j*j*dt)/(1+r*dt)\n",
    "    c=lambda j: (0.5*r*j*dt+0.5*sigma*sigma*j*j*dt)/(1+r*dt)\n",
    "    \n",
    "\n",
    "    Fl=[max(i*dS-K,0) for i in range(M+1)] #右边界条件\n",
    "    #print(Fl)\n",
    "    for i in range(N-1,-1,-1):\n",
    "        Fr=list(Fl)\n",
    "        Fl[0]=0 #下边界\n",
    "        Fl[M]=dS*M-K #上边界\n",
    "        for j  in range(1,M):\n",
    "            Fl[j]=a(j)*Fr[j-1]+b(j)*Fr[j]+c(j)*Fr[j+1]\n",
    "    #print(Fl)\n",
    "    ini=int(S_0/dS)\n",
    "    call_price=Fl[ini]\n",
    "    return call_price\n",
    "\n",
    "def bsm_c_type(S_0, K, T, r, sigma):\n",
    "    S_0 = float(S_0)\n",
    "    d_1 = (log(S_0 / K) + (r + 0.5 * sigma ** 2) * T) / (sigma * sqrt(T))  # 带入d_1公式\n",
    "    d_2 = (log(S_0 / K) + (r - 0.5 * sigma ** 2) * T) / (sigma * sqrt(T))  # 带入d_2公式\n",
    "    c = (S_0 * stats.norm.cdf(d_1) - K * exp(-r * T) * stats.norm.cdf(d_2))  # 带入欧式看涨期权公式\n",
    "    return c\n",
    "\n",
    "call_price=european_call_explicit(r=0.01,sigma=0.4,S_0=50,K=50,T=0.4174,M=150,N=10000)\n",
    "print(\"call option\")\n",
    "print(\"数值解：\")\n",
    "print(call_price)\n",
    "\n",
    "c= bsm_c_type(r=0.01,sigma=0.4,S_0=50,K=50,T=0.4174)\n",
    "print('解析解：')\n",
    "print(c)"
   ]
  },
  {
   "cell_type": "code",
   "execution_count": null,
   "id": "9484ed60-8035-40c1-9016-c2e071c870a8",
   "metadata": {},
   "outputs": [],
   "source": []
  }
 ],
 "metadata": {
  "kernelspec": {
   "display_name": "Python 3 (ipykernel)",
   "language": "python",
   "name": "python3"
  },
  "language_info": {
   "codemirror_mode": {
    "name": "ipython",
    "version": 3
   },
   "file_extension": ".py",
   "mimetype": "text/x-python",
   "name": "python",
   "nbconvert_exporter": "python",
   "pygments_lexer": "ipython3",
   "version": "3.9.19"
  }
 },
 "nbformat": 4,
 "nbformat_minor": 5
}
