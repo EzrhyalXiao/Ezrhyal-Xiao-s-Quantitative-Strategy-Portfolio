{
 "cells": [
  {
   "cell_type": "code",
   "execution_count": 1,
   "id": "c892b233-8e83-47d9-9c6e-7bb2a6b132cc",
   "metadata": {},
   "outputs": [],
   "source": [
    "import numpy as np\n",
    "import matplotlib.pyplot as plt\n",
    "from scipy.optimize import root\n",
    "from scipy.stats import norm\n",
    "\n",
    "from math import log, sqrt, exp\n",
    "from scipy import stats  \n",
    "import numpy as np\n",
    "import math"
   ]
  },
  {
   "cell_type": "markdown",
   "id": "241dde91-6f16-44a3-a1b2-3062e7ee4fea",
   "metadata": {},
   "source": [
    "## Binary Tree"
   ]
  },
  {
   "cell_type": "code",
   "execution_count": 2,
   "id": "36dabb73-7f46-494e-a02a-7e4dca38c901",
   "metadata": {},
   "outputs": [
    {
     "name": "stdout",
     "output_type": "stream",
     "text": [
      "American Call Option Price: 10.00\n",
      "American Put Option Price: 1.67\n"
     ]
    }
   ],
   "source": [
    "import numpy as np\n",
    "import matplotlib.pyplot as plt\n",
    "\n",
    "def american_option_pricing_binary_tree(S, K, r, sigma, T, N, is_call):\n",
    "    dt = T / N\n",
    "    u = np.exp(sigma * np.sqrt(dt))\n",
    "    d = 1 / u\n",
    "    p = (np.exp(r * dt) - d) / (u - d)\n",
    "    \n",
    "    # initial binary tree\n",
    "    V = np.zeros((N + 1, N + 1))\n",
    "    V[:, -1] = np.maximum(is_call * S * np.power(u, N) - K, 0)  # boundary condition\n",
    "\n",
    "    for j in range(N - 1, -1, -1):\n",
    "        for i in range(j, -1, -1):\n",
    "            V[i, j] = np.exp(-r * dt) * (p * V[i, j + 1] + (1 - p) * V[i - 1, j + 1])\n",
    "            if is_call:\n",
    "                V[i, j] = np.maximum(V[i, j], S * np.power(u, i) * np.power(d, j - i) - K)\n",
    "            else:\n",
    "                V[i, j] = np.maximum(V[i, j], K - S * np.power(u, i) * np.power(d, j - i))\n",
    "    \n",
    "    return V[0, 0]\n",
    "\n",
    "# initial value\n",
    "S = 100  \n",
    "K = 90  \n",
    "r = 0.02  \n",
    "sigma = 0.2  \n",
    "T = 10  \n",
    "b = 0.01  \n",
    "N = 50\n",
    "\n",
    "call_price = american_option_pricing_binary_tree(S, K, r, sigma, T, N, True)\n",
    "put_price = american_option_pricing_binary_tree(S, K, r, sigma, T, N, False)\n",
    "\n",
    "print(f\"American Call Option Price: {call_price:.2f}\")\n",
    "print(f\"American Put Option Price: {put_price:.2f}\")"
   ]
  },
  {
   "cell_type": "markdown",
   "id": "69dc4126-46f7-4512-9faa-29990d3d492f",
   "metadata": {},
   "source": [
    "## BAW model for call option"
   ]
  },
  {
   "cell_type": "code",
   "execution_count": 3,
   "id": "149d54a6-42dc-4187-ba4b-6a6724c92a89",
   "metadata": {},
   "outputs": [
    {
     "name": "stdout",
     "output_type": "stream",
     "text": [
      "American Call Option Price: 25.15\n",
      "American Put Option Price: 13.36\n"
     ]
    }
   ],
   "source": [
    "import numpy as np\n",
    "from scipy.stats import norm\n",
    "\n",
    "def black_scholes(S, K, T, r, sigma, option_type='call'):\n",
    "    d1 = (np.log(S / K) + (r + 0.5 * sigma ** 2) * T) / (sigma * np.sqrt(T))\n",
    "    d2 = d1 - sigma * np.sqrt(T)\n",
    "    \n",
    "    if option_type == 'call':\n",
    "        option_price = S * norm.cdf(d1) - K * np.exp(-r * T) * norm.cdf(d2)\n",
    "    elif option_type == 'put':\n",
    "        option_price = K * np.exp(-r * T) * norm.cdf(-d2) - S * norm.cdf(-d1)\n",
    "    \n",
    "    return option_price\n",
    "\n",
    "def baw_option(S, K, T, r, sigma, b, option_type='call'):\n",
    "    # Bjerksund-Stensland model parameters\n",
    "    M = 2 * r / sigma ** 2\n",
    "    N = 2 * b / sigma ** 2\n",
    "    K_m = 1 - np.exp(-r * T)\n",
    "    \n",
    "    q2 = (-(N - 1) + np.sqrt((N - 1) ** 2 + 4 * M / K_m)) / 2\n",
    "    S_star = K / (1 - 1 / q2)\n",
    "\n",
    "    d1 = (np.log(S / S_star) + (b + 0.5 * sigma ** 2) * T) / (sigma * np.sqrt(T))\n",
    "    A2 = (S_star * (1 - np.exp((b - r) * T) * norm.cdf(d1))) / q2\n",
    "\n",
    "    if option_type == 'call':\n",
    "        if S < S_star:\n",
    "            option_price = black_scholes(S, K, T, r, sigma, option_type='call') + A2 * (S / S_star) ** q2\n",
    "        else:\n",
    "            option_price = S - K  \n",
    "    elif option_type == 'put':\n",
    "        if S < S_star:\n",
    "            option_price = black_scholes(S, K, T, r, sigma, option_type='put') + A2 * (S / S_star) ** q2\n",
    "        else:\n",
    "            option_price = K - S  \n",
    "    \n",
    "    return option_price\n",
    "\n",
    "# initial value\n",
    "S = 100  \n",
    "K = 90   \n",
    "r = 0.02  \n",
    "sigma = 0.3 \n",
    "T = 1    \n",
    "b = 0.02  \n",
    "\n",
    "# Test both Call and Put options\n",
    "call_price = baw_option(S, K, T, r, sigma, b, option_type='call')\n",
    "put_price = baw_option(S, K, T, r, sigma, b, option_type='put')\n",
    "\n",
    "print(f\"American Call Option Price: {call_price:.2f}\")\n",
    "print(f\"American Put Option Price: {put_price:.2f}\")"
   ]
  },
  {
   "cell_type": "code",
   "execution_count": null,
   "id": "a0cc9079-d656-44b8-8227-f6d427ebe91c",
   "metadata": {},
   "outputs": [],
   "source": []
  }
 ],
 "metadata": {
  "kernelspec": {
   "display_name": "Python 3 (ipykernel)",
   "language": "python",
   "name": "python3"
  },
  "language_info": {
   "codemirror_mode": {
    "name": "ipython",
    "version": 3
   },
   "file_extension": ".py",
   "mimetype": "text/x-python",
   "name": "python",
   "nbconvert_exporter": "python",
   "pygments_lexer": "ipython3",
   "version": "3.9.19"
  }
 },
 "nbformat": 4,
 "nbformat_minor": 5
}
